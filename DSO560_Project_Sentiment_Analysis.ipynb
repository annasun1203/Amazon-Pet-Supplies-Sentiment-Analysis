{
  "cells": [
    {
      "cell_type": "code",
      "execution_count": null,
      "metadata": {
        "ExecuteTime": {
          "end_time": "2021-12-16T17:53:34.392255Z",
          "start_time": "2021-12-16T17:53:25.216263Z"
        },
        "id": "w5zVwzj6ZV0M"
      },
      "outputs": [],
      "source": [
        "import pandas as pd\n",
        "import numpy as np\n",
        "from numpy import array, argmax, asarray, zeros\n",
        "from random import randint\n",
        "import matplotlib.pyplot as plt\n",
        "from sklearn.linear_model import LogisticRegression\n",
        "from sklearn.model_selection import train_test_split\n",
        "from sklearn.neural_network import MLPClassifier\n",
        "from sklearn.metrics import roc_auc_score\n",
        "import spacy\n",
        "from spacy import displacy\n",
        "nlp = spacy.load(\"en_core_web_md\", disable=[\"ner\", \"tagger\", \"parser\", \"attribute_ruler\"])\n",
        "import tensorflow as tf\n",
        "from keras.preprocessing.text import Tokenizer\n",
        "from tensorflow.keras.preprocessing.sequence import pad_sequences\n",
        "from tensorflow.keras.utils import to_categorical\n",
        "from keras.models import Sequential\n",
        "from keras.layers import Dense\n",
        "from keras.layers import Embedding\n",
        "from keras.layers.recurrent import SimpleRNN, LSTM\n",
        "from keras.layers import Flatten, Masking"
      ]
    },
    {
      "cell_type": "code",
      "source": [
        "from google.colab import drive\n",
        "drive.mount('/content/drive')"
      ],
      "metadata": {
        "colab": {
          "base_uri": "https://localhost:8080/"
        },
        "id": "x8HkSViB6Bed",
        "outputId": "d6e400be-4f60-48c0-faa3-110f5aac540b"
      },
      "execution_count": null,
      "outputs": [
        {
          "output_type": "stream",
          "name": "stdout",
          "text": [
            "Mounted at /content/drive\n"
          ]
        }
      ]
    },
    {
      "cell_type": "code",
      "execution_count": null,
      "metadata": {
        "ExecuteTime": {
          "end_time": "2021-12-16T17:53:34.504674Z",
          "start_time": "2021-12-16T17:53:34.416620Z"
        },
        "colab": {
          "base_uri": "https://localhost:8080/",
          "height": 206
        },
        "id": "q-RB_JMkZV0R",
        "outputId": "62d3b4a0-a9d6-459a-d78f-b87bc14fa566"
      },
      "outputs": [
        {
          "output_type": "execute_result",
          "data": {
            "text/html": [
              "\n",
              "  <div id=\"df-a97423ff-f97a-46fc-ab8c-19021880f15b\">\n",
              "    <div class=\"colab-df-container\">\n",
              "      <div>\n",
              "<style scoped>\n",
              "    .dataframe tbody tr th:only-of-type {\n",
              "        vertical-align: middle;\n",
              "    }\n",
              "\n",
              "    .dataframe tbody tr th {\n",
              "        vertical-align: top;\n",
              "    }\n",
              "\n",
              "    .dataframe thead th {\n",
              "        text-align: right;\n",
              "    }\n",
              "</style>\n",
              "<table border=\"1\" class=\"dataframe\">\n",
              "  <thead>\n",
              "    <tr style=\"text-align: right;\">\n",
              "      <th></th>\n",
              "      <th>Review</th>\n",
              "      <th>Negative</th>\n",
              "    </tr>\n",
              "  </thead>\n",
              "  <tbody>\n",
              "    <tr>\n",
              "      <th>0</th>\n",
              "      <td>pet need natural stuff smell great safe use ar...</td>\n",
              "      <td>0</td>\n",
              "    </tr>\n",
              "    <tr>\n",
              "      <th>1</th>\n",
              "      <td>excellent</td>\n",
              "      <td>0</td>\n",
              "    </tr>\n",
              "    <tr>\n",
              "      <th>2</th>\n",
              "      <td>works great easy use clean</td>\n",
              "      <td>0</td>\n",
              "    </tr>\n",
              "    <tr>\n",
              "      <th>3</th>\n",
              "      <td>harness impossible get dog correctly</td>\n",
              "      <td>1</td>\n",
              "    </tr>\n",
              "    <tr>\n",
              "      <th>4</th>\n",
              "      <td>electronic door dog work great let need go dau...</td>\n",
              "      <td>0</td>\n",
              "    </tr>\n",
              "  </tbody>\n",
              "</table>\n",
              "</div>\n",
              "      <button class=\"colab-df-convert\" onclick=\"convertToInteractive('df-a97423ff-f97a-46fc-ab8c-19021880f15b')\"\n",
              "              title=\"Convert this dataframe to an interactive table.\"\n",
              "              style=\"display:none;\">\n",
              "        \n",
              "  <svg xmlns=\"http://www.w3.org/2000/svg\" height=\"24px\"viewBox=\"0 0 24 24\"\n",
              "       width=\"24px\">\n",
              "    <path d=\"M0 0h24v24H0V0z\" fill=\"none\"/>\n",
              "    <path d=\"M18.56 5.44l.94 2.06.94-2.06 2.06-.94-2.06-.94-.94-2.06-.94 2.06-2.06.94zm-11 1L8.5 8.5l.94-2.06 2.06-.94-2.06-.94L8.5 2.5l-.94 2.06-2.06.94zm10 10l.94 2.06.94-2.06 2.06-.94-2.06-.94-.94-2.06-.94 2.06-2.06.94z\"/><path d=\"M17.41 7.96l-1.37-1.37c-.4-.4-.92-.59-1.43-.59-.52 0-1.04.2-1.43.59L10.3 9.45l-7.72 7.72c-.78.78-.78 2.05 0 2.83L4 21.41c.39.39.9.59 1.41.59.51 0 1.02-.2 1.41-.59l7.78-7.78 2.81-2.81c.8-.78.8-2.07 0-2.86zM5.41 20L4 18.59l7.72-7.72 1.47 1.35L5.41 20z\"/>\n",
              "  </svg>\n",
              "      </button>\n",
              "      \n",
              "  <style>\n",
              "    .colab-df-container {\n",
              "      display:flex;\n",
              "      flex-wrap:wrap;\n",
              "      gap: 12px;\n",
              "    }\n",
              "\n",
              "    .colab-df-convert {\n",
              "      background-color: #E8F0FE;\n",
              "      border: none;\n",
              "      border-radius: 50%;\n",
              "      cursor: pointer;\n",
              "      display: none;\n",
              "      fill: #1967D2;\n",
              "      height: 32px;\n",
              "      padding: 0 0 0 0;\n",
              "      width: 32px;\n",
              "    }\n",
              "\n",
              "    .colab-df-convert:hover {\n",
              "      background-color: #E2EBFA;\n",
              "      box-shadow: 0px 1px 2px rgba(60, 64, 67, 0.3), 0px 1px 3px 1px rgba(60, 64, 67, 0.15);\n",
              "      fill: #174EA6;\n",
              "    }\n",
              "\n",
              "    [theme=dark] .colab-df-convert {\n",
              "      background-color: #3B4455;\n",
              "      fill: #D2E3FC;\n",
              "    }\n",
              "\n",
              "    [theme=dark] .colab-df-convert:hover {\n",
              "      background-color: #434B5C;\n",
              "      box-shadow: 0px 1px 3px 1px rgba(0, 0, 0, 0.15);\n",
              "      filter: drop-shadow(0px 1px 2px rgba(0, 0, 0, 0.3));\n",
              "      fill: #FFFFFF;\n",
              "    }\n",
              "  </style>\n",
              "\n",
              "      <script>\n",
              "        const buttonEl =\n",
              "          document.querySelector('#df-a97423ff-f97a-46fc-ab8c-19021880f15b button.colab-df-convert');\n",
              "        buttonEl.style.display =\n",
              "          google.colab.kernel.accessAllowed ? 'block' : 'none';\n",
              "\n",
              "        async function convertToInteractive(key) {\n",
              "          const element = document.querySelector('#df-a97423ff-f97a-46fc-ab8c-19021880f15b');\n",
              "          const dataTable =\n",
              "            await google.colab.kernel.invokeFunction('convertToInteractive',\n",
              "                                                     [key], {});\n",
              "          if (!dataTable) return;\n",
              "\n",
              "          const docLinkHtml = 'Like what you see? Visit the ' +\n",
              "            '<a target=\"_blank\" href=https://colab.research.google.com/notebooks/data_table.ipynb>data table notebook</a>'\n",
              "            + ' to learn more about interactive tables.';\n",
              "          element.innerHTML = '';\n",
              "          dataTable['output_type'] = 'display_data';\n",
              "          await google.colab.output.renderOutput(dataTable, element);\n",
              "          const docLink = document.createElement('div');\n",
              "          docLink.innerHTML = docLinkHtml;\n",
              "          element.appendChild(docLink);\n",
              "        }\n",
              "      </script>\n",
              "    </div>\n",
              "  </div>\n",
              "  "
            ],
            "text/plain": [
              "                                              Review  Negative\n",
              "0  pet need natural stuff smell great safe use ar...         0\n",
              "1                                          excellent         0\n",
              "2                         works great easy use clean         0\n",
              "3               harness impossible get dog correctly         1\n",
              "4  electronic door dog work great let need go dau...         0"
            ]
          },
          "metadata": {},
          "execution_count": 4
        }
      ],
      "source": [
        "data = pd.read_csv('pet_data_clean.csv', index_col = 0)\n",
        "data.head()"
      ]
    },
    {
      "cell_type": "code",
      "execution_count": null,
      "metadata": {
        "ExecuteTime": {
          "end_time": "2021-12-16T17:53:34.567079Z",
          "start_time": "2021-12-16T17:53:34.542590Z"
        },
        "colab": {
          "base_uri": "https://localhost:8080/"
        },
        "id": "kTfnmRkxZV0S",
        "outputId": "7dfa4d94-ee8e-486d-ebbb-d91e15e7e8b7"
      },
      "outputs": [
        {
          "output_type": "stream",
          "name": "stdout",
          "text": [
            "<class 'pandas.core.frame.DataFrame'>\n",
            "Int64Index: 40008 entries, 0 to 40007\n",
            "Data columns (total 2 columns):\n",
            " #   Column    Non-Null Count  Dtype \n",
            "---  ------    --------------  ----- \n",
            " 0   Review    39986 non-null  object\n",
            " 1   Negative  40008 non-null  int64 \n",
            "dtypes: int64(1), object(1)\n",
            "memory usage: 937.7+ KB\n"
          ]
        }
      ],
      "source": [
        "data.info()"
      ]
    },
    {
      "cell_type": "code",
      "execution_count": null,
      "metadata": {
        "ExecuteTime": {
          "end_time": "2021-12-16T17:53:34.685468Z",
          "start_time": "2021-12-16T17:53:34.647901Z"
        },
        "colab": {
          "base_uri": "https://localhost:8080/"
        },
        "id": "AMXu1Jv5ZV0T",
        "outputId": "a39717fb-976a-45a2-9b13-0d5f501ece81"
      },
      "outputs": [
        {
          "output_type": "execute_result",
          "data": {
            "text/plain": [
              "(39986, 2)"
            ]
          },
          "metadata": {},
          "execution_count": 6
        }
      ],
      "source": [
        "#drop rows that contain NaN\n",
        "data = data.dropna()\n",
        "data.shape"
      ]
    },
    {
      "cell_type": "markdown",
      "metadata": {
        "id": "tMMqu14SZV0T"
      },
      "source": [
        "## Baseline Model"
      ]
    },
    {
      "cell_type": "markdown",
      "metadata": {
        "id": "RdSRCcBFZV0W"
      },
      "source": [
        "- First, build a simple linear model as baseline\n",
        "- Choose to build a logistic regression using word2vec embeddings from spacy"
      ]
    },
    {
      "cell_type": "code",
      "execution_count": null,
      "metadata": {
        "ExecuteTime": {
          "end_time": "2021-12-16T17:13:50.331274Z",
          "start_time": "2021-12-16T17:11:33.986714Z"
        },
        "id": "feTMG_SBZV0Y",
        "outputId": "345ddddc-7c65-4afe-937d-11aba75b64ae"
      },
      "outputs": [
        {
          "name": "stderr",
          "output_type": "stream",
          "text": [
            "/Users/wangbufan/opt/anaconda3/lib/python3.8/site-packages/spacy/pipeline/lemmatizer.py:211: UserWarning: [W108] The rule-based lemmatizer did not find POS annotation for one or more tokens. Check that your pipeline includes components that assign token.pos, typically 'tagger'+'attribute_ruler' or 'morphologizer'.\n",
            "  warnings.warn(Warnings.W108)\n"
          ]
        }
      ],
      "source": [
        "# Calculate embedding vectors\n",
        "embedding= pd.DataFrame(data['Review'].apply(lambda text: nlp(text).vector))\n",
        "embedding = pd.DataFrame(embedding['Review'].to_list())\n",
        "\n",
        "# Specific independent variable\n",
        "y = data[['Negative']]"
      ]
    },
    {
      "cell_type": "code",
      "execution_count": null,
      "metadata": {
        "ExecuteTime": {
          "end_time": "2021-12-16T17:13:52.182494Z",
          "start_time": "2021-12-16T17:13:50.534483Z"
        },
        "id": "uPyuXC9rZV0a",
        "outputId": "d0ef275c-d518-403d-e65f-6f2c3dbbf91e"
      },
      "outputs": [
        {
          "data": {
            "image/png": "[encoded data removed]",
            "text/plain": [
              "<Figure size 432x288 with 1 Axes>"
            ]
          },
          "metadata": {
            "needs_background": "light"
          },
          "output_type": "display_data"
        }
      ],
      "source": [
        "# 96 features are too many for only 39986 data point. Thus, conduct PCA to reduce dimensions\n",
        "from sklearn.decomposition import PCA\n",
        "\n",
        "# Find optimal PCA dimension\n",
        "pca = PCA()\n",
        "X = pca.fit_transform(embedding)\n",
        "\n",
        "# Determine explained variance using explained_variance_ration_ attribute\n",
        "exp_var_pca = pca.explained_variance_ratio_\n",
        "cum_sum_eigenvalues = np.cumsum(exp_var_pca)\n",
        "\n",
        "# Create the visualization plot\n",
        "plt.bar(range(0,len(exp_var_pca)), exp_var_pca, alpha=0.5, align='center', label='Individual explained variance')\n",
        "plt.step(range(0,len(cum_sum_eigenvalues)), cum_sum_eigenvalues, where='mid',label='Cumulative explained variance')\n",
        "plt.ylabel('Explained variance ratio')\n",
        "plt.xlabel('Principal component index')\n",
        "plt.legend(loc='best')\n",
        "plt.tight_layout()\n",
        "plt.show()"
      ]
    },
    {
      "cell_type": "code",
      "execution_count": null,
      "metadata": {
        "ExecuteTime": {
          "end_time": "2021-12-16T17:13:53.084855Z",
          "start_time": "2021-12-16T17:13:52.417272Z"
        },
        "id": "bVp8hbztZV0c"
      },
      "outputs": [],
      "source": [
        "# Choose dimensions of 50 as the explained variance is around 80%\n",
        "pca = PCA(n_components=50)\n",
        "X = pca.fit_transform(embedding)"
      ]
    },
    {
      "cell_type": "markdown",
      "metadata": {
        "id": "E2fUlI7QZV0c"
      },
      "source": [
        "### Logistic Regression Model"
      ]
    },
    {
      "cell_type": "code",
      "execution_count": null,
      "metadata": {
        "ExecuteTime": {
          "end_time": "2021-12-16T17:13:53.508590Z",
          "start_time": "2021-12-16T17:13:53.294028Z"
        },
        "id": "Db8QgFmOZV0d"
      },
      "outputs": [],
      "source": [
        "# train test split\n",
        "X_train, X_test, y_train, y_test = train_test_split(X, y, test_size = 0.1,stratify = y, shuffle = True, random_state = 40)"
      ]
    },
    {
      "cell_type": "code",
      "execution_count": null,
      "metadata": {
        "ExecuteTime": {
          "end_time": "2021-12-16T17:13:53.938989Z",
          "start_time": "2021-12-16T17:13:53.755068Z"
        },
        "id": "E4XsyptGZV0d",
        "outputId": "ae1848f6-3431-4dfb-ffa0-e35cf4d718f9"
      },
      "outputs": [
        {
          "name": "stderr",
          "output_type": "stream",
          "text": [
            "/Users/wangbufan/opt/anaconda3/lib/python3.8/site-packages/sklearn/utils/validation.py:63: DataConversionWarning: A column-vector y was passed when a 1d array was expected. Please change the shape of y to (n_samples, ), for example using ravel().\n",
            "  return f(*args, **kwargs)\n"
          ]
        },
        {
          "data": {
            "text/plain": [
              "LogisticRegression()"
            ]
          },
          "execution_count": 9,
          "metadata": {},
          "output_type": "execute_result"
        }
      ],
      "source": [
        "# Build logistic regression model on training data\n",
        "lr_embedding = LogisticRegression()\n",
        "lr_embedding.fit(X_train, y_train)"
      ]
    },
    {
      "cell_type": "code",
      "execution_count": null,
      "metadata": {
        "ExecuteTime": {
          "end_time": "2021-12-16T17:13:54.230053Z",
          "start_time": "2021-12-16T17:13:54.192242Z"
        },
        "id": "Foy8k6hhZV0e",
        "outputId": "56425766-2c20-4fcc-d992-e0e89d4f0b63"
      },
      "outputs": [
        {
          "name": "stdout",
          "output_type": "stream",
          "text": [
            "Training AUC:0.7414053007031449\n",
            "Testing AUC:0.7423968196082139\n"
          ]
        }
      ],
      "source": [
        "# Predict/validate on testing data\n",
        "y_train_embedding = lr_embedding.predict(X_train)\n",
        "y_predict_embedding = lr_embedding.predict(X_test)\n",
        "\n",
        "# Calculate ROC AUC score\n",
        "print(f'Training AUC:{roc_auc_score(y_train, y_train_embedding)}')\n",
        "print(f'Testing AUC:{roc_auc_score(y_test, y_predict_embedding)}')"
      ]
    },
    {
      "cell_type": "markdown",
      "metadata": {
        "id": "IkKp5fO8ZV0f"
      },
      "source": [
        "- Did not conduct hyperparameter tuning for the logistic regression model as the model is just a baseline\n",
        "- For all of the following model: MLP, RNN, and LSTM, conduct hyperparameter tuning\n",
        "- Manually change hyperparameter values to gradually increase the complexity of the model and observe the performance of training and testing data. Stop increasing the complexity of model when performance on testind data stop increasing and start decreasing, while the performance of training data keep increasing. The optimal model should output a decent high testing score which just a little bit below the training score\n",
        "- Decided not to use GridSearch as it is time-consuming. Also, by manually chaning hyperparameters, we have overall more control of our model."
      ]
    },
    {
      "cell_type": "markdown",
      "metadata": {
        "id": "GbDrRKqbZV0f"
      },
      "source": [
        "## MLP(multi-layer perceptron) model "
      ]
    },
    {
      "cell_type": "code",
      "execution_count": null,
      "metadata": {
        "ExecuteTime": {
          "end_time": "2021-12-16T17:13:54.483937Z",
          "start_time": "2021-12-16T17:13:54.477389Z"
        },
        "id": "zF7_0rWGZV0g"
      },
      "outputs": [],
      "source": [
        "# Set up MLP model\n",
        "mlp = MLPClassifier(hidden_layer_sizes = (25,20),activation = 'relu', solver = 'adam', alpha = 0.01, learning_rate_init = 0.01)"
      ]
    },
    {
      "cell_type": "code",
      "execution_count": null,
      "metadata": {
        "ExecuteTime": {
          "end_time": "2021-12-16T17:14:43.095122Z",
          "start_time": "2021-12-16T17:13:54.723191Z"
        },
        "id": "5hpducLpZV0g",
        "outputId": "0f3fb7c7-0ae9-487f-c106-67182ac88c18"
      },
      "outputs": [
        {
          "name": "stderr",
          "output_type": "stream",
          "text": [
            "/Users/wangbufan/opt/anaconda3/lib/python3.8/site-packages/sklearn/utils/validation.py:63: DataConversionWarning: A column-vector y was passed when a 1d array was expected. Please change the shape of y to (n_samples, ), for example using ravel().\n",
            "  return f(*args, **kwargs)\n"
          ]
        },
        {
          "name": "stdout",
          "output_type": "stream",
          "text": [
            "Training AUC: 0.8565832472093916, Testing AUC: 0.8159054856955906\n"
          ]
        },
        {
          "name": "stderr",
          "output_type": "stream",
          "text": [
            "/Users/wangbufan/opt/anaconda3/lib/python3.8/site-packages/sklearn/utils/validation.py:63: DataConversionWarning: A column-vector y was passed when a 1d array was expected. Please change the shape of y to (n_samples, ), for example using ravel().\n",
            "  return f(*args, **kwargs)\n"
          ]
        },
        {
          "name": "stdout",
          "output_type": "stream",
          "text": [
            "Training AUC: 0.8595564999373375, Testing AUC: 0.8261454858156507\n"
          ]
        },
        {
          "name": "stderr",
          "output_type": "stream",
          "text": [
            "/Users/wangbufan/opt/anaconda3/lib/python3.8/site-packages/sklearn/utils/validation.py:63: DataConversionWarning: A column-vector y was passed when a 1d array was expected. Please change the shape of y to (n_samples, ), for example using ravel().\n",
            "  return f(*args, **kwargs)\n"
          ]
        },
        {
          "name": "stdout",
          "output_type": "stream",
          "text": [
            "Training AUC: 0.8596587898779424, Testing AUC: 0.8146411028719874\n",
            "Average Training AUC: 0.8585995123415572, Average Testing AUC: 0.8188973581277429\n"
          ]
        }
      ],
      "source": [
        "# Build MLP model, conduct 3 times cross-validation for a robust result\n",
        "roc_auc_train = []\n",
        "roc_auc_test = []\n",
        "for i in range(3):\n",
        "    # each loop randomly split the dataset into training and testing.\n",
        "    X_train, X_test, y_train, y_test = train_test_split(X, y, test_size = 0.1,stratify = y, shuffle = True)\n",
        "    \n",
        "    # Fit training data\n",
        "    mlp.fit(X_train,y_train)\n",
        "    \n",
        "    # get predicted y\n",
        "    y_predict_train = mlp.predict(X_train)\n",
        "    y_predict_test = mlp.predict(X_test)\n",
        "    \n",
        "    # calculate auc\n",
        "    roc_auc_train.append(roc_auc_score(y_train, y_predict_train))\n",
        "    roc_auc_test.append(roc_auc_score(y_test, y_predict_test))\n",
        "    \n",
        "    print(f'Training AUC: {roc_auc_score(y_train, y_predict_train)}, Testing AUC: {roc_auc_score(y_test, y_predict_test)}')\n",
        "    # Calculate average auc\n",
        "    roc_auc_train_average = np.mean(roc_auc_train)\n",
        "    roc_auc_test_average = np.mean(roc_auc_test)\n",
        "\n",
        "print(f'Average Training AUC: {roc_auc_train_average}, Average Testing AUC: {roc_auc_test_average}')\n",
        "    \n",
        "    \n",
        "    \n",
        "    \n",
        "    "
      ]
    },
    {
      "cell_type": "markdown",
      "metadata": {
        "id": "wRFE2gUpZV0h"
      },
      "source": [
        "## RNN & LSTM "
      ]
    },
    {
      "cell_type": "markdown",
      "metadata": {
        "id": "QYZGw3LHZV0h"
      },
      "source": [
        "- The following code is from Professor Chen's notebook 'Using RNNs and LSTMs'"
      ]
    },
    {
      "cell_type": "markdown",
      "metadata": {
        "id": "3dLb207dZV0h"
      },
      "source": [
        "### Tokenize Text"
      ]
    },
    {
      "cell_type": "code",
      "execution_count": null,
      "metadata": {
        "ExecuteTime": {
          "end_time": "2021-12-16T17:54:06.862941Z",
          "start_time": "2021-12-16T17:54:05.654633Z"
        },
        "id": "BAZkKo3HZV0i"
      },
      "outputs": [],
      "source": [
        "tokenizer = Tokenizer(num_words=5000, oov_token=\"UNKNOWN_TOKEN\")\n",
        "tokenizer.fit_on_texts(data['Review'])"
      ]
    },
    {
      "cell_type": "code",
      "execution_count": null,
      "metadata": {
        "ExecuteTime": {
          "end_time": "2021-12-16T17:54:16.421625Z",
          "start_time": "2021-12-16T17:54:15.507261Z"
        },
        "id": "3AhyNZfMZV0i"
      },
      "outputs": [],
      "source": [
        "MAX_SEQUENCE_LENGTH = 100\n",
        "\n",
        "def integer_encode_documents(docs, tokenizer):\n",
        "    return tokenizer.texts_to_sequences(docs)\n",
        "\n",
        "# integer encode the documents\n",
        "encoded_docs = integer_encode_documents(data['Review'], tokenizer)\n",
        "# this is a list of lists, the numbers represent the index position of that word.\n",
        "# for instance, 33 means the 33rd word in the vocabulary\n",
        "# Notice the last document has 4 numbers, since it is a 4 word document: Could have done better.\n",
        "padded_docs = pad_sequences(encoded_docs, maxlen=MAX_SEQUENCE_LENGTH, padding='post')"
      ]
    },
    {
      "cell_type": "code",
      "execution_count": null,
      "metadata": {
        "ExecuteTime": {
          "end_time": "2021-12-16T17:54:16.760590Z",
          "start_time": "2021-12-16T17:54:16.749278Z"
        },
        "id": "zKFuTQb5ZV0j"
      },
      "outputs": [],
      "source": [
        "# change target format for keras model\n",
        "labels = to_categorical(data['Negative'])"
      ]
    },
    {
      "cell_type": "markdown",
      "metadata": {
        "id": "7lC6TKIqZV0j"
      },
      "source": [
        "### Load in GloVe Vectors"
      ]
    },
    {
      "cell_type": "code",
      "execution_count": null,
      "metadata": {
        "ExecuteTime": {
          "end_time": "2021-12-16T17:54:32.385873Z",
          "start_time": "2021-12-16T17:54:20.299468Z"
        },
        "colab": {
          "base_uri": "https://localhost:8080/"
        },
        "id": "Qhx58oEPZV0j",
        "outputId": "3f0f8c3a-3a56-4d21-8473-e04b0329569d"
      },
      "outputs": [
        {
          "output_type": "stream",
          "name": "stdout",
          "text": [
            "Loaded 307742 word vectors.\n"
          ]
        }
      ],
      "source": [
        "def load_glove_vectors():\n",
        "    embeddings_index = {}\n",
        "    with open('glove.6B.100d.txt') as f:\n",
        "        for line in f:\n",
        "            values = line.split()\n",
        "            word = values[0]\n",
        "            coefs = asarray(values[1:], dtype='float32')\n",
        "            embeddings_index[word] = coefs\n",
        "    print('Loaded %s word vectors.' % len(embeddings_index))\n",
        "    return embeddings_index\n",
        "\n",
        "\n",
        "embeddings_index = load_glove_vectors()"
      ]
    },
    {
      "cell_type": "markdown",
      "metadata": {
        "id": "52Cd0fZ1ZV0k"
      },
      "source": [
        "### Load in Embeddings"
      ]
    },
    {
      "cell_type": "code",
      "execution_count": null,
      "metadata": {
        "ExecuteTime": {
          "end_time": "2021-12-16T17:56:38.729905Z",
          "start_time": "2021-12-16T17:54:34.144Z"
        },
        "id": "-92FNpCLZV0k"
      },
      "outputs": [],
      "source": [
        "# create a weight matrix for words in training docs\n",
        "VOCAB_SIZE = int(len(tokenizer.word_index) * 1.1)\n",
        "\n",
        "embedding_matrix = zeros((VOCAB_SIZE, 100))\n",
        "for word, i in tokenizer.word_index.items():\n",
        "    embedding_vector = embeddings_index.get(word)\n",
        "    if embedding_vector is not None: # check that it is an actual word that we have embeddings for\n",
        "        embedding_matrix[i] = embedding_vector"
      ]
    },
    {
      "cell_type": "markdown",
      "metadata": {
        "id": "2Spf0GNxZV0l"
      },
      "source": [
        "### Set up Model"
      ]
    },
    {
      "cell_type": "code",
      "execution_count": null,
      "metadata": {
        "ExecuteTime": {
          "end_time": "2021-12-16T17:18:25.702627Z",
          "start_time": "2021-12-16T17:15:37.163Z"
        },
        "id": "NeP4cgNpZV0l"
      },
      "outputs": [],
      "source": [
        "def make_binary_classification_rnn_model(plot=False):\n",
        "    model = Sequential()\n",
        "    model.add(Embedding(VOCAB_SIZE, 100, weights=[embedding_matrix], input_length=MAX_SEQUENCE_LENGTH, trainable=False))\n",
        "    model.add(Masking(mask_value=0.0)) # masking layer, masks any words that don't have an embedding as 0s.\n",
        "    model.add(SimpleRNN(units=56, input_shape=(1, MAX_SEQUENCE_LENGTH)))\n",
        "    model.add(Dense(16))\n",
        "    model.add(Dense(2, activation='softmax'))\n",
        "    \n",
        "    # Compile the model\n",
        "    model.compile(\n",
        "    optimizer='adam', loss='categorical_crossentropy', metrics=['AUC'])\n",
        "    # summarize the model\n",
        "    model.summary()\n",
        "    \n",
        "    if plot:\n",
        "        plot_model(model, to_file='model.png', show_shapes=True)\n",
        "    return model\n",
        "\n",
        "\n",
        "def make_lstm_classification_model(plot=False):\n",
        "    model = Sequential()\n",
        "    model.add(Embedding(VOCAB_SIZE, 100, weights=[embedding_matrix], input_length=MAX_SEQUENCE_LENGTH, trainable=False))\n",
        "    model.add(Masking(mask_value=0.0)) # masking layer, masks any words that don't have an embedding as 0s.\n",
        "    model.add(LSTM(units=64, input_shape=(1, MAX_SEQUENCE_LENGTH)))\n",
        "    model.add(Dense(16))\n",
        "    model.add(Dense(2, activation='softmax'))\n",
        "    \n",
        "    # Compile the model\n",
        "    model.compile(\n",
        "    optimizer='adam', loss='categorical_crossentropy', metrics=['AUC'])\n",
        "    # summarize the model\n",
        "    model.summary()\n",
        "    \n",
        "    if plot:\n",
        "        plot_model(model, to_file='model.png', show_shapes=True)\n",
        "    return model"
      ]
    },
    {
      "cell_type": "markdown",
      "metadata": {
        "id": "tia8CzZUZV0l"
      },
      "source": [
        "### Fit the Model (RNN)"
      ]
    },
    {
      "cell_type": "markdown",
      "metadata": {
        "id": "WRE_CccxZV0m"
      },
      "source": [
        "- Given that the number of data point is limited, decided not to split into training and testing.\n",
        "- Rather, using the validation_split function to randomly validate on a subset of data"
      ]
    },
    {
      "cell_type": "code",
      "execution_count": null,
      "metadata": {
        "ExecuteTime": {
          "end_time": "2021-12-16T17:18:25.724881Z",
          "start_time": "2021-12-16T17:15:39.523Z"
        },
        "colab": {
          "base_uri": "https://localhost:8080/"
        },
        "id": "8NkOn0AZZV0m",
        "outputId": "8433cd6e-1b51-4236-f385-a9c4334eddb9"
      },
      "outputs": [
        {
          "output_type": "stream",
          "name": "stdout",
          "text": [
            "Model: \"sequential_4\"\n",
            "_________________________________________________________________\n",
            " Layer (type)                Output Shape              Param #   \n",
            "=================================================================\n",
            " embedding_4 (Embedding)     (None, 80, 100)           1927000   \n",
            "                                                                 \n",
            " masking_4 (Masking)         (None, 80, 100)           0         \n",
            "                                                                 \n",
            " simple_rnn_4 (SimpleRNN)    (None, 56)                8792      \n",
            "                                                                 \n",
            " dense_8 (Dense)             (None, 16)                912       \n",
            "                                                                 \n",
            " dense_9 (Dense)             (None, 2)                 34        \n",
            "                                                                 \n",
            "=================================================================\n",
            "Total params: 1,936,738\n",
            "Trainable params: 9,738\n",
            "Non-trainable params: 1,927,000\n",
            "_________________________________________________________________\n"
          ]
        }
      ],
      "source": [
        "model = make_binary_classification_rnn_model()"
      ]
    },
    {
      "cell_type": "code",
      "execution_count": null,
      "metadata": {
        "colab": {
          "base_uri": "https://localhost:8080/"
        },
        "id": "Cw2vnkaBZV0m",
        "outputId": "dea46816-598c-4ff4-db4f-7f796b01f00c"
      },
      "outputs": [
        {
          "output_type": "stream",
          "name": "stdout",
          "text": [
            "Epoch 1/10\n",
            "1125/1125 [==============================] - 53s 45ms/step - loss: 0.5879 - auc: 0.7549 - val_loss: 0.6940 - val_auc: 0.6546\n",
            "Epoch 2/10\n",
            "1125/1125 [==============================] - 42s 37ms/step - loss: 0.5240 - auc: 0.8160 - val_loss: 0.7455 - val_auc: 0.6103\n",
            "Epoch 3/10\n",
            "1125/1125 [==============================] - 43s 38ms/step - loss: 0.4887 - auc: 0.8441 - val_loss: 0.4380 - val_auc: 0.8950\n",
            "Epoch 4/10\n",
            "1125/1125 [==============================] - 43s 38ms/step - loss: 0.4708 - auc: 0.8565 - val_loss: 0.5071 - val_auc: 0.8389\n",
            "Epoch 5/10\n",
            "1125/1125 [==============================] - 43s 38ms/step - loss: 0.4340 - auc: 0.8801 - val_loss: 0.4939 - val_auc: 0.8470\n",
            "Epoch 6/10\n",
            "1125/1125 [==============================] - 42s 37ms/step - loss: 0.4095 - auc: 0.8946 - val_loss: 0.3510 - val_auc: 0.9305\n",
            "Epoch 7/10\n",
            "1125/1125 [==============================] - 42s 38ms/step - loss: 0.3914 - auc: 0.9041 - val_loss: 0.5525 - val_auc: 0.8061\n",
            "Epoch 8/10\n",
            "1125/1125 [==============================] - 43s 38ms/step - loss: 0.3575 - auc: 0.9211 - val_loss: 0.6611 - val_auc: 0.7478\n",
            "Epoch 9/10\n",
            "1125/1125 [==============================] - 42s 37ms/step - loss: 0.3333 - auc: 0.9318 - val_loss: 0.3502 - val_auc: 0.9265\n",
            "Epoch 10/10\n",
            "1125/1125 [==============================] - 43s 38ms/step - loss: 0.3148 - auc: 0.9395 - val_loss: 0.3989 - val_auc: 0.9041\n"
          ]
        }
      ],
      "source": [
        "# Set up earlystop to prevent overfitting\n",
        "callback = tf.keras.callbacks.EarlyStopping(monitor='loss', patience=3)\n",
        "\n",
        "# fit the model\n",
        "history = model.fit(padded_docs, labels,validation_split = 0.1, epochs=10, verbose=1, callbacks = [callback])"
      ]
    },
    {
      "cell_type": "markdown",
      "source": [
        "### Fit the Model (LSTM)"
      ],
      "metadata": {
        "id": "JFVeK6eAOg0l"
      }
    },
    {
      "cell_type": "code",
      "source": [
        "model = make_lstm_classification_model()"
      ],
      "metadata": {
        "colab": {
          "base_uri": "https://localhost:8080/"
        },
        "id": "hNgg2KnxOkPh",
        "outputId": "59f89d29-c78b-4592-ceb0-9753fc9fbe97"
      },
      "execution_count": null,
      "outputs": [
        {
          "output_type": "stream",
          "name": "stdout",
          "text": [
            "Model: \"sequential_6\"\n",
            "_________________________________________________________________\n",
            " Layer (type)                Output Shape              Param #   \n",
            "=================================================================\n",
            " embedding_6 (Embedding)     (None, 100, 100)          1927000   \n",
            "                                                                 \n",
            " masking_6 (Masking)         (None, 100, 100)          0         \n",
            "                                                                 \n",
            " lstm_1 (LSTM)               (None, 64)                42240     \n",
            "                                                                 \n",
            " dense_12 (Dense)            (None, 16)                1040      \n",
            "                                                                 \n",
            " dense_13 (Dense)            (None, 2)                 34        \n",
            "                                                                 \n",
            "=================================================================\n",
            "Total params: 1,970,314\n",
            "Trainable params: 43,314\n",
            "Non-trainable params: 1,927,000\n",
            "_________________________________________________________________\n"
          ]
        }
      ]
    },
    {
      "cell_type": "code",
      "source": [
        "# Set up earlystop to prevent overfitting\n",
        "callback = tf.keras.callbacks.EarlyStopping(monitor='loss', patience=3)\n",
        "\n",
        "# fit the model\n",
        "history = model.fit(padded_docs, labels,validation_split = 0.1, epochs=10, verbose=1, callbacks = [callback])"
      ],
      "metadata": {
        "colab": {
          "base_uri": "https://localhost:8080/"
        },
        "id": "xx4xzU-3O1oC",
        "outputId": "030c7620-2413-4f33-b085-b7cb46d8b641"
      },
      "execution_count": null,
      "outputs": [
        {
          "output_type": "stream",
          "name": "stdout",
          "text": [
            "Epoch 1/10\n",
            "1125/1125 [==============================] - 189s 164ms/step - loss: 0.5180 - auc: 0.8203 - val_loss: 0.6440 - val_auc: 0.7080\n",
            "Epoch 2/10\n",
            "1125/1125 [==============================] - 185s 164ms/step - loss: 0.4311 - auc: 0.8815 - val_loss: 0.4351 - val_auc: 0.8813\n",
            "Epoch 3/10\n",
            "1125/1125 [==============================] - 185s 164ms/step - loss: 0.3650 - auc: 0.9170 - val_loss: 0.4611 - val_auc: 0.8672\n",
            "Epoch 4/10\n",
            "1125/1125 [==============================] - 184s 164ms/step - loss: 0.3028 - auc: 0.9439 - val_loss: 0.2930 - val_auc: 0.9512\n",
            "Epoch 5/10\n",
            "1125/1125 [==============================] - 184s 163ms/step - loss: 0.2400 - auc: 0.9649 - val_loss: 0.2193 - val_auc: 0.9717\n",
            "Epoch 6/10\n",
            "1125/1125 [==============================] - 184s 163ms/step - loss: 0.1895 - auc: 0.9779 - val_loss: 0.1322 - val_auc: 0.9897\n",
            "Epoch 7/10\n",
            "1125/1125 [==============================] - 183s 163ms/step - loss: 0.1465 - auc: 0.9866 - val_loss: 0.1086 - val_auc: 0.9918\n",
            "Epoch 8/10\n",
            "1125/1125 [==============================] - 184s 163ms/step - loss: 0.1171 - auc: 0.9911 - val_loss: 0.1604 - val_auc: 0.9832\n",
            "Epoch 9/10\n",
            "1125/1125 [==============================] - 185s 164ms/step - loss: 0.0902 - auc: 0.9945 - val_loss: 0.1118 - val_auc: 0.9918\n",
            "Epoch 10/10\n",
            "1125/1125 [==============================] - 183s 163ms/step - loss: 0.0745 - auc: 0.9962 - val_loss: 0.0913 - val_auc: 0.9938\n"
          ]
        }
      ]
    },
    {
      "cell_type": "code",
      "source": [
        ""
      ],
      "metadata": {
        "id": "oEtvoUgpO_eW"
      },
      "execution_count": null,
      "outputs": []
    }
  ],
  "metadata": {
    "kernelspec": {
      "display_name": "Python 3",
      "language": "python",
      "name": "python3"
    },
    "language_info": {
      "codemirror_mode": {
        "name": "ipython",
        "version": 3
      },
      "file_extension": ".py",
      "mimetype": "text/x-python",
      "name": "python",
      "nbconvert_exporter": "python",
      "pygments_lexer": "ipython3",
      "version": "3.8.3"
    },
    "varInspector": {
      "cols": {
        "lenName": 16,
        "lenType": 16,
        "lenVar": 40
      },
      "kernels_config": {
        "python": {
          "delete_cmd_postfix": "",
          "delete_cmd_prefix": "del ",
          "library": "var_list.py",
          "varRefreshCmd": "print(var_dic_list())"
        },
        "r": {
          "delete_cmd_postfix": ") ",
          "delete_cmd_prefix": "rm(",
          "library": "var_list.r",
          "varRefreshCmd": "cat(var_dic_list()) "
        }
      },
      "types_to_exclude": [
        "module",
        "function",
        "builtin_function_or_method",
        "instance",
        "_Feature"
      ],
      "window_display": false
    },
    "colab": {
      "name": "DSO560_Project_Sentiment_Analysis_Modeling.ipynb",
      "provenance": []
    }
  },
  "nbformat": 4,
  "nbformat_minor": 0
}