{
  "cells": [
    {
      "cell_type": "code",
      "execution_count": null,
      "id": "5ec2384f",
      "metadata": {
        "id": "5ec2384f"
      },
      "outputs": [],
      "source": [
        "!pip install wordcloud"
      ]
    },
    {
      "cell_type": "code",
      "execution_count": null,
      "id": "80338bd0",
      "metadata": {
        "id": "80338bd0"
      },
      "outputs": [],
      "source": [
        "#Import packages\n",
        "import numpy as np\n",
        "import pandas as pd\n",
        "import matplotlib.pyplot as plt\n",
        "import os\n",
        "import json\n",
        "import gzip\n",
        "from urllib.request import urlopen\n",
        "import spacy\n",
        "from spacy import displacy\n",
        "import re\n",
        "import nltk\n",
        "from nltk.tokenize import word_tokenize\n",
        "from nltk.stem import WordNetLemmatizer\n",
        "from sklearn.neural_network import MLPClassifier\n",
        "from collections import Counter\n",
        "from imblearn.under_sampling import NearMiss\n",
        "\n",
        "from sklearn.linear_model import LogisticRegression\n",
        "from sklearn.model_selection import train_test_split\n",
        "from sklearn.model_selection import KFold\n",
        "from sklearn.model_selection import cross_val_score"
      ]
    },
    {
      "cell_type": "code",
      "execution_count": null,
      "id": "6c339515",
      "metadata": {
        "id": "6c339515"
      },
      "outputs": [],
      "source": [
        "#this code and code in following three cells from source 1 below\n",
        "data=[]\n",
        "\n",
        "with open(\"Pet_Supplies_5.json\",\"r\") as f:\n",
        "    for l in f:\n",
        "            data.append((json.loads(l.strip())))"
      ]
    },
    {
      "cell_type": "code",
      "execution_count": null,
      "id": "cab7ed7e",
      "metadata": {
        "id": "cab7ed7e"
      },
      "outputs": [],
      "source": [
        "df = pd.DataFrame.from_dict(data)"
      ]
    },
    {
      "cell_type": "code",
      "execution_count": null,
      "id": "2079a7bb",
      "metadata": {
        "scrolled": true,
        "id": "2079a7bb",
        "outputId": "576aebd8-d8b0-4fb5-dfee-c61a6024bf1a"
      },
      "outputs": [
        {
          "data": {
            "text/html": [
              "<div>\n",
              "<style scoped>\n",
              "    .dataframe tbody tr th:only-of-type {\n",
              "        vertical-align: middle;\n",
              "    }\n",
              "\n",
              "    .dataframe tbody tr th {\n",
              "        vertical-align: top;\n",
              "    }\n",
              "\n",
              "    .dataframe thead th {\n",
              "        text-align: right;\n",
              "    }\n",
              "</style>\n",
              "<table border=\"1\" class=\"dataframe\">\n",
              "  <thead>\n",
              "    <tr style=\"text-align: right;\">\n",
              "      <th></th>\n",
              "      <th>overall</th>\n",
              "      <th>vote</th>\n",
              "      <th>verified</th>\n",
              "      <th>reviewTime</th>\n",
              "      <th>reviewerID</th>\n",
              "      <th>asin</th>\n",
              "      <th>reviewerName</th>\n",
              "      <th>reviewText</th>\n",
              "      <th>summary</th>\n",
              "      <th>unixReviewTime</th>\n",
              "      <th>style</th>\n",
              "      <th>image</th>\n",
              "    </tr>\n",
              "  </thead>\n",
              "  <tbody>\n",
              "    <tr>\n",
              "      <th>0</th>\n",
              "      <td>3.0</td>\n",
              "      <td>2</td>\n",
              "      <td>True</td>\n",
              "      <td>12 2, 2016</td>\n",
              "      <td>A2KN4FJVI2TZSF</td>\n",
              "      <td>0972585419</td>\n",
              "      <td>M.G.</td>\n",
              "      <td>I purchased this cd for my Pocket Parrot. It h...</td>\n",
              "      <td>It's okay</td>\n",
              "      <td>1480636800</td>\n",
              "      <td>NaN</td>\n",
              "      <td>NaN</td>\n",
              "    </tr>\n",
              "    <tr>\n",
              "      <th>1</th>\n",
              "      <td>3.0</td>\n",
              "      <td>NaN</td>\n",
              "      <td>True</td>\n",
              "      <td>10 17, 2016</td>\n",
              "      <td>A3RMA1DD66JDRV</td>\n",
              "      <td>0972585419</td>\n",
              "      <td>Susan P.</td>\n",
              "      <td>Maybe it's just my Amazon parrot, but she's no...</td>\n",
              "      <td>It might work for a different bird</td>\n",
              "      <td>1476662400</td>\n",
              "      <td>NaN</td>\n",
              "      <td>NaN</td>\n",
              "    </tr>\n",
              "    <tr>\n",
              "      <th>2</th>\n",
              "      <td>5.0</td>\n",
              "      <td>2</td>\n",
              "      <td>True</td>\n",
              "      <td>09 9, 2016</td>\n",
              "      <td>AAANYRIEOIT3R</td>\n",
              "      <td>0972585419</td>\n",
              "      <td>Luggie Lugnut</td>\n",
              "      <td>I bought this to help me teach my blue quaker ...</td>\n",
              "      <td>I bought this to help me teach my blue quaker ...</td>\n",
              "      <td>1473379200</td>\n",
              "      <td>NaN</td>\n",
              "      <td>NaN</td>\n",
              "    </tr>\n",
              "    <tr>\n",
              "      <th>3</th>\n",
              "      <td>3.0</td>\n",
              "      <td>NaN</td>\n",
              "      <td>True</td>\n",
              "      <td>08 31, 2016</td>\n",
              "      <td>A3W44VX0LXAOHU</td>\n",
              "      <td>0972585419</td>\n",
              "      <td>Melissa Partin</td>\n",
              "      <td>Bird showed no interest in it....</td>\n",
              "      <td>Three Stars</td>\n",
              "      <td>1472601600</td>\n",
              "      <td>NaN</td>\n",
              "      <td>NaN</td>\n",
              "    </tr>\n",
              "    <tr>\n",
              "      <th>4</th>\n",
              "      <td>2.0</td>\n",
              "      <td>NaN</td>\n",
              "      <td>True</td>\n",
              "      <td>08 18, 2016</td>\n",
              "      <td>A16ZDBZGKYDRSU</td>\n",
              "      <td>0972585419</td>\n",
              "      <td>Cheryle Bell</td>\n",
              "      <td>Didn't do a thing for my African Grey! He hate...</td>\n",
              "      <td>He hated it and it was very obnoxious</td>\n",
              "      <td>1471478400</td>\n",
              "      <td>NaN</td>\n",
              "      <td>NaN</td>\n",
              "    </tr>\n",
              "  </tbody>\n",
              "</table>\n",
              "</div>"
            ],
            "text/plain": [
              "   overall vote  verified   reviewTime      reviewerID        asin  \\\n",
              "0      3.0    2      True   12 2, 2016  A2KN4FJVI2TZSF  0972585419   \n",
              "1      3.0  NaN      True  10 17, 2016  A3RMA1DD66JDRV  0972585419   \n",
              "2      5.0    2      True   09 9, 2016   AAANYRIEOIT3R  0972585419   \n",
              "3      3.0  NaN      True  08 31, 2016  A3W44VX0LXAOHU  0972585419   \n",
              "4      2.0  NaN      True  08 18, 2016  A16ZDBZGKYDRSU  0972585419   \n",
              "\n",
              "     reviewerName                                         reviewText  \\\n",
              "0            M.G.  I purchased this cd for my Pocket Parrot. It h...   \n",
              "1        Susan P.  Maybe it's just my Amazon parrot, but she's no...   \n",
              "2   Luggie Lugnut  I bought this to help me teach my blue quaker ...   \n",
              "3  Melissa Partin                  Bird showed no interest in it....   \n",
              "4    Cheryle Bell  Didn't do a thing for my African Grey! He hate...   \n",
              "\n",
              "                                             summary  unixReviewTime style  \\\n",
              "0                                          It's okay      1480636800   NaN   \n",
              "1                 It might work for a different bird      1476662400   NaN   \n",
              "2  I bought this to help me teach my blue quaker ...      1473379200   NaN   \n",
              "3                                        Three Stars      1472601600   NaN   \n",
              "4              He hated it and it was very obnoxious      1471478400   NaN   \n",
              "\n",
              "  image  \n",
              "0   NaN  \n",
              "1   NaN  \n",
              "2   NaN  \n",
              "3   NaN  \n",
              "4   NaN  "
            ]
          },
          "execution_count": 30,
          "metadata": {},
          "output_type": "execute_result"
        }
      ],
      "source": [
        "df.head()"
      ]
    },
    {
      "cell_type": "code",
      "execution_count": null,
      "id": "716d1d85",
      "metadata": {
        "id": "716d1d85"
      },
      "outputs": [],
      "source": [
        "#only keeping overall and reviewtext columns\n",
        "df=df[['overall','reviewText']]"
      ]
    },
    {
      "cell_type": "code",
      "execution_count": null,
      "id": "932c89c4",
      "metadata": {
        "scrolled": true,
        "id": "932c89c4",
        "outputId": "97c449fa-31af-429e-e3ff-e1325c3b404c"
      },
      "outputs": [
        {
          "name": "stderr",
          "output_type": "stream",
          "text": [
            "<ipython-input-62-a2ba53ab23ac>:2: SettingWithCopyWarning: \n",
            "A value is trying to be set on a copy of a slice from a DataFrame.\n",
            "Try using .loc[row_indexer,col_indexer] = value instead\n",
            "\n",
            "See the caveats in the documentation: https://pandas.pydata.org/pandas-docs/stable/user_guide/indexing.html#returning-a-view-versus-a-copy\n",
            "  df['score']=np.where(df['overall'].isin([1,2,3]),1,0)\n"
          ]
        }
      ],
      "source": [
        "#make overall a binary column\n",
        "df['score']=np.where(df['overall'].isin([1,2,3]),1,0)"
      ]
    },
    {
      "cell_type": "code",
      "execution_count": null,
      "id": "887905f2",
      "metadata": {
        "id": "887905f2",
        "outputId": "599a8aab-9e5e-4451-8bdb-b6ae9114a8e8"
      },
      "outputs": [
        {
          "data": {
            "text/html": [
              "<div>\n",
              "<style scoped>\n",
              "    .dataframe tbody tr th:only-of-type {\n",
              "        vertical-align: middle;\n",
              "    }\n",
              "\n",
              "    .dataframe tbody tr th {\n",
              "        vertical-align: top;\n",
              "    }\n",
              "\n",
              "    .dataframe thead th {\n",
              "        text-align: right;\n",
              "    }\n",
              "</style>\n",
              "<table border=\"1\" class=\"dataframe\">\n",
              "  <thead>\n",
              "    <tr style=\"text-align: right;\">\n",
              "      <th></th>\n",
              "      <th>overall</th>\n",
              "      <th>reviewText</th>\n",
              "      <th>score</th>\n",
              "    </tr>\n",
              "  </thead>\n",
              "  <tbody>\n",
              "    <tr>\n",
              "      <th>0</th>\n",
              "      <td>3.0</td>\n",
              "      <td>I purchased this cd for my Pocket Parrot. It h...</td>\n",
              "      <td>1</td>\n",
              "    </tr>\n",
              "    <tr>\n",
              "      <th>1</th>\n",
              "      <td>3.0</td>\n",
              "      <td>Maybe it's just my Amazon parrot, but she's no...</td>\n",
              "      <td>1</td>\n",
              "    </tr>\n",
              "    <tr>\n",
              "      <th>2</th>\n",
              "      <td>5.0</td>\n",
              "      <td>I bought this to help me teach my blue quaker ...</td>\n",
              "      <td>0</td>\n",
              "    </tr>\n",
              "    <tr>\n",
              "      <th>3</th>\n",
              "      <td>3.0</td>\n",
              "      <td>Bird showed no interest in it....</td>\n",
              "      <td>1</td>\n",
              "    </tr>\n",
              "    <tr>\n",
              "      <th>4</th>\n",
              "      <td>2.0</td>\n",
              "      <td>Didn't do a thing for my African Grey! He hate...</td>\n",
              "      <td>1</td>\n",
              "    </tr>\n",
              "    <tr>\n",
              "      <th>5</th>\n",
              "      <td>4.0</td>\n",
              "      <td>I like it - but the Cockatiel I am not so sure...</td>\n",
              "      <td>0</td>\n",
              "    </tr>\n",
              "    <tr>\n",
              "      <th>6</th>\n",
              "      <td>3.0</td>\n",
              "      <td>This is a CD. I should have read better, I was...</td>\n",
              "      <td>1</td>\n",
              "    </tr>\n",
              "    <tr>\n",
              "      <th>7</th>\n",
              "      <td>5.0</td>\n",
              "      <td>my parot loves this CD! started repeating the ...</td>\n",
              "      <td>0</td>\n",
              "    </tr>\n",
              "    <tr>\n",
              "      <th>8</th>\n",
              "      <td>5.0</td>\n",
              "      <td>Good</td>\n",
              "      <td>0</td>\n",
              "    </tr>\n",
              "    <tr>\n",
              "      <th>9</th>\n",
              "      <td>1.0</td>\n",
              "      <td>I was reLly disappointed the cd has a lot of s...</td>\n",
              "      <td>1</td>\n",
              "    </tr>\n",
              "  </tbody>\n",
              "</table>\n",
              "</div>"
            ],
            "text/plain": [
              "   overall                                         reviewText  score\n",
              "0      3.0  I purchased this cd for my Pocket Parrot. It h...      1\n",
              "1      3.0  Maybe it's just my Amazon parrot, but she's no...      1\n",
              "2      5.0  I bought this to help me teach my blue quaker ...      0\n",
              "3      3.0                  Bird showed no interest in it....      1\n",
              "4      2.0  Didn't do a thing for my African Grey! He hate...      1\n",
              "5      4.0  I like it - but the Cockatiel I am not so sure...      0\n",
              "6      3.0  This is a CD. I should have read better, I was...      1\n",
              "7      5.0  my parot loves this CD! started repeating the ...      0\n",
              "8      5.0                                               Good      0\n",
              "9      1.0  I was reLly disappointed the cd has a lot of s...      1"
            ]
          },
          "execution_count": 64,
          "metadata": {},
          "output_type": "execute_result"
        }
      ],
      "source": [
        "df.head(10)"
      ]
    },
    {
      "cell_type": "code",
      "execution_count": null,
      "id": "10e6ac29",
      "metadata": {
        "scrolled": true,
        "id": "10e6ac29",
        "outputId": "411fb5d3-ab25-4a55-fe8c-164cb1e4da04"
      },
      "outputs": [
        {
          "data": {
            "text/plain": [
              "overall\n",
              "1.0     118514\n",
              "2.0      97852\n",
              "3.0     164671\n",
              "4.0     266869\n",
              "5.0    1281136\n",
              "Name: overall, dtype: int64"
            ]
          },
          "execution_count": 50,
          "metadata": {},
          "output_type": "execute_result"
        }
      ],
      "source": [
        "df.groupby('overall')['overall'].count()\n",
        "# most reviews are five stars"
      ]
    },
    {
      "cell_type": "code",
      "execution_count": null,
      "id": "3008c203",
      "metadata": {
        "id": "3008c203",
        "outputId": "50744399-ab7f-4c9f-cc81-59fc0d4e2b9a"
      },
      "outputs": [
        {
          "data": {
            "text/plain": [
              "0.8024734557360597"
            ]
          },
          "execution_count": 54,
          "metadata": {},
          "output_type": "execute_result"
        }
      ],
      "source": [
        "(1281136+266869)/len(df)\n",
        "#80% of reviews are 4 and 5 star reviews"
      ]
    },
    {
      "cell_type": "code",
      "execution_count": null,
      "id": "c57f7397",
      "metadata": {
        "id": "c57f7397"
      },
      "outputs": [],
      "source": [
        "#had to cut down a lot to get it to run in a reasonable amount of time\n",
        "df_sample=df.sample(n=25000)"
      ]
    },
    {
      "cell_type": "code",
      "execution_count": null,
      "id": "455a020b",
      "metadata": {
        "id": "455a020b"
      },
      "outputs": [],
      "source": [
        "#check sample distribution\n",
        "sample_freq=df_sample.groupby(['overall']).count().reset_index()"
      ]
    },
    {
      "cell_type": "code",
      "execution_count": null,
      "id": "a3b8e1f7",
      "metadata": {
        "id": "a3b8e1f7",
        "outputId": "3fc91020-9d8c-420b-fc57-385e52ebddb5"
      },
      "outputs": [
        {
          "data": {
            "text/html": [
              "<div>\n",
              "<style scoped>\n",
              "    .dataframe tbody tr th:only-of-type {\n",
              "        vertical-align: middle;\n",
              "    }\n",
              "\n",
              "    .dataframe tbody tr th {\n",
              "        vertical-align: top;\n",
              "    }\n",
              "\n",
              "    .dataframe thead th {\n",
              "        text-align: right;\n",
              "    }\n",
              "</style>\n",
              "<table border=\"1\" class=\"dataframe\">\n",
              "  <thead>\n",
              "    <tr style=\"text-align: right;\">\n",
              "      <th></th>\n",
              "      <th>overall</th>\n",
              "      <th>reviewText</th>\n",
              "      <th>score</th>\n",
              "    </tr>\n",
              "  </thead>\n",
              "  <tbody>\n",
              "    <tr>\n",
              "      <th>0</th>\n",
              "      <td>1.0</td>\n",
              "      <td>1574</td>\n",
              "      <td>1574</td>\n",
              "    </tr>\n",
              "    <tr>\n",
              "      <th>1</th>\n",
              "      <td>2.0</td>\n",
              "      <td>1291</td>\n",
              "      <td>1291</td>\n",
              "    </tr>\n",
              "    <tr>\n",
              "      <th>2</th>\n",
              "      <td>3.0</td>\n",
              "      <td>2131</td>\n",
              "      <td>2131</td>\n",
              "    </tr>\n",
              "    <tr>\n",
              "      <th>3</th>\n",
              "      <td>4.0</td>\n",
              "      <td>3454</td>\n",
              "      <td>3455</td>\n",
              "    </tr>\n",
              "    <tr>\n",
              "      <th>4</th>\n",
              "      <td>5.0</td>\n",
              "      <td>16538</td>\n",
              "      <td>16549</td>\n",
              "    </tr>\n",
              "  </tbody>\n",
              "</table>\n",
              "</div>"
            ],
            "text/plain": [
              "   overall  reviewText  score\n",
              "0      1.0        1574   1574\n",
              "1      2.0        1291   1291\n",
              "2      3.0        2131   2131\n",
              "3      4.0        3454   3455\n",
              "4      5.0       16538  16549"
            ]
          },
          "execution_count": 239,
          "metadata": {},
          "output_type": "execute_result"
        }
      ],
      "source": [
        "sample_freq"
      ]
    },
    {
      "cell_type": "code",
      "execution_count": null,
      "id": "7554d1e7",
      "metadata": {
        "id": "7554d1e7",
        "outputId": "37b10f16-0c52-4112-cf7b-fb8a242f1ed4"
      },
      "outputs": [
        {
          "data": {
            "text/plain": [
              "0.80016"
            ]
          },
          "execution_count": 125,
          "metadata": {},
          "output_type": "execute_result"
        }
      ],
      "source": [
        "# sample 4 and 5 stars\n",
        "\n",
        "(3455+16549)/len(df_sample)"
      ]
    },
    {
      "cell_type": "code",
      "execution_count": null,
      "id": "2ca29495",
      "metadata": {
        "scrolled": true,
        "id": "2ca29495",
        "outputId": "669ad6fd-de15-4078-9e54-cd82728f505d"
      },
      "outputs": [
        {
          "data": {
            "image/png": "[encoded data removed]",
            "text/plain": [
              "<Figure size 648x360 with 1 Axes>"
            ]
          },
          "metadata": {
            "needs_background": "light"
          },
          "output_type": "display_data"
        }
      ],
      "source": [
        "#visualizing the distribution\n",
        "\n",
        "plt.figure(figsize=(9,5))\n",
        "\n",
        "colors=['red', 'yellow', 'green', 'blue', 'orange']\n",
        "\n",
        "plt.bar(sample_freq['overall'], sample_freq['reviewText'],\n",
        "        color=colors,\n",
        "       zorder=3)\n",
        "\n",
        "plt.xticks([1,2,3,4,5])\n",
        "plt.title('Reviews per Rating', fontsize=19)\n",
        "plt.xlabel('Star Rating', fontsize=14)\n",
        "plt.ylabel('Count', fontsize=14)\n",
        "\n",
        "plt.grid(zorder=0,\n",
        "        which='major',\n",
        "        alpha=.2)\n",
        "\n",
        "\n",
        "\n",
        "plt.show()"
      ]
    },
    {
      "cell_type": "code",
      "execution_count": null,
      "id": "0adff847",
      "metadata": {
        "id": "0adff847"
      },
      "outputs": [],
      "source": [
        "#lemmatization\n",
        "\n",
        "from nltk.corpus import wordnet\n",
        "\n",
        "#the below code comes from source 2\n",
        "\n",
        "def get_wordnet_pos(word):\n",
        "    \"\"\"Map POS tag to first character lemmatize() accepts\"\"\"\n",
        "    tag = nltk.pos_tag([word])[0][1][0].upper()\n",
        "    tag_dict = {\"J\": wordnet.ADJ,\n",
        "                \"N\": wordnet.NOUN,\n",
        "                \"V\": wordnet.VERB,\n",
        "                \"R\": wordnet.ADV}\n",
        "\n",
        "    return tag_dict.get(tag, wordnet.NOUN)"
      ]
    },
    {
      "cell_type": "code",
      "execution_count": null,
      "id": "8d792819",
      "metadata": {
        "id": "8d792819"
      },
      "outputs": [],
      "source": [
        "lemmatizer=WordNetLemmatizer()"
      ]
    },
    {
      "cell_type": "code",
      "execution_count": null,
      "id": "5e5815f4",
      "metadata": {
        "id": "5e5815f4",
        "outputId": "8126ea41-5fc0-4127-8131-159b87ecf4b9"
      },
      "outputs": [
        {
          "data": {
            "text/plain": [
              "'dog'"
            ]
          },
          "execution_count": 92,
          "metadata": {},
          "output_type": "execute_result"
        }
      ],
      "source": [
        "#initiate lemmatizer\n",
        "lemmatizer.lemmatize('dogs')"
      ]
    },
    {
      "cell_type": "code",
      "execution_count": null,
      "id": "b0f40bcd",
      "metadata": {
        "id": "b0f40bcd"
      },
      "outputs": [],
      "source": [
        "#import main stopwords\n",
        "from nltk.corpus import stopwords\n",
        "nltk_stopwords = set(stopwords.words('english'))"
      ]
    },
    {
      "cell_type": "code",
      "execution_count": null,
      "id": "3319b6a1",
      "metadata": {
        "id": "3319b6a1"
      },
      "outputs": [],
      "source": [
        "#define cleaning (mostly from class)\n",
        "def clean(corpus, pattern):\n",
        "    cleaned_reviews=[]\n",
        "    word_list=[]\n",
        "    for review in corpus:\n",
        "        words = re.findall(pattern, str(review))\n",
        "        new_words = []\n",
        "        for word in words:\n",
        "            word=lemmatizer.lemmatize (word, get_wordnet_pos(word)) # add in lemmatization\n",
        "            word=word.lower()\n",
        "            if word in nltk_stopwords:\n",
        "                continue\n",
        "            new_words.append(word)\n",
        "            word_list.append(word)\n",
        "        cleaned_review = \" \".join(new_words)\n",
        "        cleaned_reviews.append(cleaned_review)\n",
        "    return cleaned_reviews"
      ]
    },
    {
      "cell_type": "code",
      "execution_count": null,
      "id": "fc0d417c",
      "metadata": {
        "id": "fc0d417c"
      },
      "outputs": [],
      "source": [
        "#save cleaned text\n",
        "cleaned_corp=clean(df_sample['reviewText'],pattern)"
      ]
    },
    {
      "cell_type": "code",
      "execution_count": null,
      "id": "313df705",
      "metadata": {
        "scrolled": true,
        "id": "313df705",
        "outputId": "f0c7dccb-fb37-45ef-ab6d-5970789cfbd2"
      },
      "outputs": [
        {
          "data": {
            "text/plain": [
              "[('dog', 4334),\n",
              " ('love', 2788),\n",
              " ('cat', 2450),\n",
              " ('get', 2187),\n",
              " ('use', 2059),\n",
              " ('one', 2010),\n",
              " ('great', 1909),\n",
              " ('like', 1896),\n",
              " ('well', 1657),\n",
              " ('work', 1380),\n",
              " ('product', 1363),\n",
              " ('good', 1270),\n",
              " ('would', 1231),\n",
              " ('food', 1225),\n",
              " ('make', 1162),\n",
              " ('go', 1072),\n",
              " ('small', 1017),\n",
              " ('time', 1009),\n",
              " ('toy', 1004),\n",
              " ('really', 883)]"
            ]
          },
          "execution_count": 127,
          "metadata": {},
          "output_type": "execute_result"
        }
      ],
      "source": [
        "#look for additional stopwords:\n",
        "Counter(word_list).most_common(20)"
      ]
    },
    {
      "cell_type": "code",
      "execution_count": null,
      "id": "344bb41e",
      "metadata": {
        "id": "344bb41e"
      },
      "outputs": [],
      "source": [
        "#list of additional stop words\n",
        "add_stop_words=['use','one','go']"
      ]
    },
    {
      "cell_type": "code",
      "execution_count": null,
      "id": "faf12ae5",
      "metadata": {
        "id": "faf12ae5"
      },
      "outputs": [],
      "source": [
        "#additional stopword removal\n",
        "\n",
        "cleaned_reviews2 = []\n",
        "\n",
        "for review in cleaned_reviews:\n",
        "    words = review.split()\n",
        "    new_words = []\n",
        "    for word in words:\n",
        "        word=word.lower()\n",
        "        if word in add_stop_words:\n",
        "            continue\n",
        "        new_words.append(word)\n",
        "    cleaned_review = \" \".join(new_words)\n",
        "    cleaned_reviews2.append(cleaned_review)"
      ]
    },
    {
      "cell_type": "code",
      "execution_count": null,
      "id": "2f20119a",
      "metadata": {
        "id": "2f20119a"
      },
      "outputs": [],
      "source": [
        "#oversampling to address class imbalance\n",
        "import imblearn\n",
        "from imblearn.over_sampling import RandomOverSampler\n",
        "ros=RandomOverSampler(random_state=42)\n",
        "\n",
        "\n",
        "x_ros, y_ros=ros.fit_resample((np.array(cleaned_corp).reshape(-1,1)), df_sample['score'])"
      ]
    },
    {
      "cell_type": "code",
      "execution_count": null,
      "id": "3db11a4d",
      "metadata": {
        "id": "3db11a4d",
        "outputId": "585973dc-11ad-414b-d853-9a8321802851"
      },
      "outputs": [
        {
          "data": {
            "text/plain": [
              "0.5"
            ]
          },
          "execution_count": 144,
          "metadata": {},
          "output_type": "execute_result"
        }
      ],
      "source": [
        "#check\n",
        "y_ros.mean()"
      ]
    },
    {
      "cell_type": "code",
      "execution_count": null,
      "id": "df435fb3",
      "metadata": {
        "id": "df435fb3"
      },
      "outputs": [],
      "source": [
        "#put cleaned data in dataframe\n",
        "cleaned_data=pd.DataFrame(columns=['Review','Negative'], index=range(0,len(x_ros)))\n",
        "cleaned_data['Review']=x_ros\n",
        "cleaned_data['Negative']=y_ros"
      ]
    },
    {
      "cell_type": "code",
      "execution_count": null,
      "id": "3fe95e8e",
      "metadata": {
        "id": "3fe95e8e",
        "outputId": "0492b976-88d4-4db3-f1de-c867bb3d4538"
      },
      "outputs": [
        {
          "data": {
            "text/html": [
              "<div>\n",
              "<style scoped>\n",
              "    .dataframe tbody tr th:only-of-type {\n",
              "        vertical-align: middle;\n",
              "    }\n",
              "\n",
              "    .dataframe tbody tr th {\n",
              "        vertical-align: top;\n",
              "    }\n",
              "\n",
              "    .dataframe thead th {\n",
              "        text-align: right;\n",
              "    }\n",
              "</style>\n",
              "<table border=\"1\" class=\"dataframe\">\n",
              "  <thead>\n",
              "    <tr style=\"text-align: right;\">\n",
              "      <th></th>\n",
              "      <th>Review</th>\n",
              "      <th>Negative</th>\n",
              "    </tr>\n",
              "  </thead>\n",
              "  <tbody>\n",
              "    <tr>\n",
              "      <th>0</th>\n",
              "      <td>pet need natural stuff smell great safe use ar...</td>\n",
              "      <td>0</td>\n",
              "    </tr>\n",
              "    <tr>\n",
              "      <th>1</th>\n",
              "      <td>excellent</td>\n",
              "      <td>0</td>\n",
              "    </tr>\n",
              "    <tr>\n",
              "      <th>2</th>\n",
              "      <td>works great easy use clean</td>\n",
              "      <td>0</td>\n",
              "    </tr>\n",
              "    <tr>\n",
              "      <th>3</th>\n",
              "      <td>harness impossible get dog correctly</td>\n",
              "      <td>1</td>\n",
              "    </tr>\n",
              "    <tr>\n",
              "      <th>4</th>\n",
              "      <td>electronic door dog work great let need go dau...</td>\n",
              "      <td>0</td>\n",
              "    </tr>\n",
              "    <tr>\n",
              "      <th>...</th>\n",
              "      <td>...</td>\n",
              "      <td>...</td>\n",
              "    </tr>\n",
              "    <tr>\n",
              "      <th>40003</th>\n",
              "      <td>impossible insulate single pane insulation wor...</td>\n",
              "      <td>1</td>\n",
              "    </tr>\n",
              "    <tr>\n",
              "      <th>40004</th>\n",
              "      <td>bet brand good food dog like taste kibble bite...</td>\n",
              "      <td>1</td>\n",
              "    </tr>\n",
              "    <tr>\n",
              "      <th>40005</th>\n",
              "      <td>kind work kind</td>\n",
              "      <td>1</td>\n",
              "    </tr>\n",
              "    <tr>\n",
              "      <th>40006</th>\n",
              "      <td>work really hard make sure hen duck healthy di...</td>\n",
              "      <td>1</td>\n",
              "    </tr>\n",
              "    <tr>\n",
              "      <th>40007</th>\n",
              "      <td>changed formula cat longer tolerate stopped ea...</td>\n",
              "      <td>1</td>\n",
              "    </tr>\n",
              "  </tbody>\n",
              "</table>\n",
              "<p>40008 rows × 2 columns</p>\n",
              "</div>"
            ],
            "text/plain": [
              "                                                  Review  Negative\n",
              "0      pet need natural stuff smell great safe use ar...         0\n",
              "1                                              excellent         0\n",
              "2                             works great easy use clean         0\n",
              "3                   harness impossible get dog correctly         1\n",
              "4      electronic door dog work great let need go dau...         0\n",
              "...                                                  ...       ...\n",
              "40003  impossible insulate single pane insulation wor...         1\n",
              "40004  bet brand good food dog like taste kibble bite...         1\n",
              "40005                                     kind work kind         1\n",
              "40006  work really hard make sure hen duck healthy di...         1\n",
              "40007  changed formula cat longer tolerate stopped ea...         1\n",
              "\n",
              "[40008 rows x 2 columns]"
            ]
          },
          "execution_count": 149,
          "metadata": {},
          "output_type": "execute_result"
        }
      ],
      "source": [
        "#preview\n",
        "cleaned_data"
      ]
    },
    {
      "cell_type": "code",
      "execution_count": null,
      "id": "e0b1fa2e",
      "metadata": {
        "id": "e0b1fa2e"
      },
      "outputs": [],
      "source": [
        "#then export clean data\n",
        "cleaned_data.to_csv('pet_data_clean.csv')"
      ]
    },
    {
      "cell_type": "markdown",
      "id": "3c1e5d84",
      "metadata": {
        "id": "3c1e5d84"
      },
      "source": [
        "## EDA"
      ]
    },
    {
      "cell_type": "code",
      "execution_count": null,
      "id": "5168debd",
      "metadata": {
        "id": "5168debd"
      },
      "outputs": [],
      "source": [
        "#intersted in words associated with negative reviews\n",
        "#create df with just negative reviews\n",
        "neg_data=cleaned_data.loc[cleaned_data['Negative']==1,:]"
      ]
    },
    {
      "cell_type": "code",
      "execution_count": null,
      "id": "13bdf49f",
      "metadata": {
        "id": "13bdf49f"
      },
      "outputs": [],
      "source": [
        "neg_words=[]\n",
        "\n",
        "for review in cleaned_data['Review']:\n",
        "        words = review.split()\n",
        "        for word in words:\n",
        "            neg_words.append(word)\n",
        "            "
      ]
    },
    {
      "cell_type": "code",
      "execution_count": null,
      "id": "d3c3bbe7",
      "metadata": {
        "id": "d3c3bbe7"
      },
      "outputs": [],
      "source": [
        "top_30=Counter(neg_words).most_common(30)"
      ]
    },
    {
      "cell_type": "code",
      "execution_count": null,
      "id": "2940c304",
      "metadata": {
        "id": "2940c304"
      },
      "outputs": [],
      "source": [
        "top_30=[i[0] for i in top_30]"
      ]
    },
    {
      "cell_type": "code",
      "execution_count": null,
      "id": "46b9f24d",
      "metadata": {
        "scrolled": true,
        "id": "46b9f24d",
        "outputId": "e42d4936-572a-491c-d434-9b35b9a2fc53"
      },
      "outputs": [
        {
          "data": {
            "image/png": "[encoded data removed]",
            "text/plain": [
              "<Figure size 720x864 with 1 Axes>"
            ]
          },
          "metadata": {
            "needs_background": "light"
          },
          "output_type": "display_data"
        }
      ],
      "source": [
        "from wordcloud import WordCloud\n",
        "\n",
        "wordcloud = WordCloud().generate(str(top_30))\n",
        "\n",
        "\n",
        "plt.figure(figsize=(10,12))\n",
        "plt.imshow(wordcloud, interpolation='bilinear')\n",
        "plt.axis(\"off\")\n",
        "plt.margins(x=0, y=0)\n",
        "plt.show()"
      ]
    },
    {
      "cell_type": "markdown",
      "id": "96305189",
      "metadata": {
        "id": "96305189"
      },
      "source": [
        "Sources:\n",
        "\n",
        "Source 1: https://colab.research.google.com/drive/1Zv6MARGQcrBbLHyjPVVMZVnRWsRnVMpV#scrollTo=knpHP22w4scK\n",
        "\n",
        "Source 2: https://www.machinelearningplus.com/nlp/lemmatization-examples-python/"
      ]
    },
    {
      "cell_type": "code",
      "execution_count": null,
      "id": "e0fdc9aa",
      "metadata": {
        "id": "e0fdc9aa"
      },
      "outputs": [],
      "source": [
        ""
      ]
    }
  ],
  "metadata": {
    "kernelspec": {
      "display_name": "Python 3",
      "language": "python",
      "name": "python3"
    },
    "language_info": {
      "codemirror_mode": {
        "name": "ipython",
        "version": 3
      },
      "file_extension": ".py",
      "mimetype": "text/x-python",
      "name": "python",
      "nbconvert_exporter": "python",
      "pygments_lexer": "ipython3",
      "version": "3.8.8"
    },
    "colab": {
      "name": "DSO 560 Final Project Pre-processing .ipynb",
      "provenance": []
    }
  },
  "nbformat": 4,
  "nbformat_minor": 5
}